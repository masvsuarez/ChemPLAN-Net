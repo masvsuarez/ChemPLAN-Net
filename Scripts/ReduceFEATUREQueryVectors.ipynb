{
 "cells": [
  {
   "cell_type": "code",
   "execution_count": 1,
   "metadata": {},
   "outputs": [],
   "source": [
    "import pickle \n",
    "import numpy as np\n",
    "from biopandas.pdb import PandasPdb\n",
    "import os"
   ]
  },
  {
   "cell_type": "code",
   "execution_count": 26,
   "metadata": {},
   "outputs": [],
   "source": [
    "directory = \"COVID19Proteases\"\n",
    "no_of_query_pdbs = 152\n",
    "\n",
    "\n",
    "def returnrelevantFFVectors(dire, number_of_query_pdbs):\n",
    "    allq = pickle.load(open(\"%s/Collector/Data/AllQuery.df\" %(dire), \"rb\"))\n",
    "    print(\"Current Shape\", allq.shape)\n",
    "    allpocks = []\n",
    "    allq_index = []\n",
    "    # First find the indices of the pockets\n",
    "    for i in range(number_of_query_pdbs):\n",
    "        if i < 9:\n",
    "            file = \"000\" +str(i+1)\n",
    "        elif i <99:\n",
    "            file = \"00\" +str(i+1)\n",
    "        else:\n",
    "            file = \"0\" +str(i+1)\n",
    "\n",
    "        # Remove the Solvents etc. Can be expanded\n",
    "        # Orignal Ligand-Protein Co-crystalstructure - remove solvents\n",
    "        real = PandasPdb().read_pdb('%s/%s/%s.pdb' %(dire, file, file))\n",
    "        real.df[\"HETATM\"] = real.df[\"HETATM\"].drop(index=np.where(real.df[\"HETATM\"][\"residue_name\"] == \"HOH\")[0])\n",
    "        real.df[\"HETATM\"] = real.df[\"HETATM\"].reset_index()\n",
    "        real.df[\"HETATM\"] = real.df[\"HETATM\"].drop(index=np.where(real.df[\"HETATM\"][\"residue_name\"] == \"DMS\")[0])\n",
    "        real.df[\"HETATM\"] = real.df[\"HETATM\"].reset_index()\n",
    "        real.df[\"HETATM\"] = real.df[\"HETATM\"].drop(index=np.where(real.df[\"HETATM\"][\"residue_name\"] == \"CL\")[0])\n",
    "\n",
    "        # Looks at the pockets\n",
    "        pockets = [f.name for f in os.scandir('%s/%s/%s_out/pockets/' %(dire, file, file))]\n",
    "        temp = []\n",
    "        pocks = []\n",
    "        # Divide by 2 because you have a .pdb and .pqr file for the same pocket - lazy coding\n",
    "        for ps_n in range(len(pockets)//2):\n",
    "            ppdb = PandasPdb().read_pdb('%s/%s/%s_out/pockets/pocket%s_atm.pdb' %(dire, file, file, ps_n+1))\n",
    "            reds = ppdb.df[\"ATOM\"].drop_duplicates(('residue_name', 'residue_number'))\n",
    "            reds = reds[[\"residue_name\", \"residue_number\"]]\n",
    "            temp += [real.distance(xyz=ppdb.df[\"ATOM\"].mean()[2:5].tolist() , records=('HETATM',)).min()]\n",
    "        # find the top 3 pockets in proximity of 5.5 A if any - most of them return < 3 pockets\n",
    "        if np.min(temp) < 5.5:\n",
    "            pocks += [np.argmin(temp)+1]\n",
    "        temp[np.argmin(temp)] = 100\n",
    "        if np.min(temp) < 5.5:\n",
    "            pocks += [np.argmin(temp)+1]\n",
    "        temp[np.argmin(temp)] = 100\n",
    "        if np.min(temp) < 5.5:\n",
    "            pocks += [np.argmin(temp)+1]\n",
    "        allpocks += [pocks]\n",
    "\n",
    "        # if there are no close-by pockets to the native ligand continue to the next pdb\n",
    "        \n",
    "        if len(allpocks[i]) == 0:\n",
    "            continue\n",
    "        # all Feature Vectors \n",
    "        ptf_file = [x.split() for x in open(\"%s/%s/pocket_f99/%s.ptf\" %(dire, file, file), \"r\").readlines()]\n",
    "        ptf_file = [x[-1].split(\":\") for x in ptf_file]\n",
    "        ptf_index = []\n",
    "        \n",
    "        # binding pocket coordinates pdb\n",
    "        for j, k in enumerate(allpocks[i]):\n",
    "            ppdb = PandasPdb().read_pdb('%s/%s/%s_out/pockets/pocket%s_atm.pdb' %(dire, file, file, k))\n",
    "            reds = ppdb.df[\"ATOM\"].drop_duplicates(('residue_name', 'residue_number'))\n",
    "            reds = reds[[\"residue_name\", \"residue_number\"]]\n",
    "\n",
    "        # return Feature Vector indicies that have a pocket_1 match -> native ligand pocket\n",
    "            for m, l in enumerate(ptf_file):\n",
    "                temp = reds[l[0] == reds[\"residue_name\"]]\n",
    "                if not temp[int(l[2]) == temp[\"residue_number\"]].empty:\n",
    "                    ptf_index += [m]\n",
    "        # extract Feature Vector index from original Query Df\n",
    "        temp2 = allq[allq[\"ConformerID\"] == file]\n",
    "        allq_index += temp2.iloc[ptf_index].index.to_list()\n",
    "        if i %10 ==0:\n",
    "            print(i)\n",
    "    allq_index.sort()\n",
    "    allq = allq.iloc[allq_index]\n",
    "    allq = allq.drop_duplicates(('Annotation', 'ConformerID'))\n",
    "    print(\"Reduced Size\", allq.shape)\n",
    "    return allq"
   ]
  },
  {
   "cell_type": "code",
   "execution_count": 27,
   "metadata": {},
   "outputs": [
    {
     "name": "stdout",
     "output_type": "stream",
     "text": [
      "Current Shape (21675, 488)\n",
      "0\n"
     ]
    },
    {
     "name": "stderr",
     "output_type": "stream",
     "text": [
      "/Users/michaelsuarez/anaconda/lib/python3.6/site-packages/numpy/core/fromnumeric.py:83: RuntimeWarning: invalid value encountered in reduce\n",
      "  return ufunc.reduce(obj, axis, dtype, out, **passkwargs)\n"
     ]
    },
    {
     "name": "stdout",
     "output_type": "stream",
     "text": [
      "Reduced Size (81, 488)\n"
     ]
    }
   ],
   "source": [
    "master_df = returnrelevantFFVectors(directory, no_of_query_pdbs)"
   ]
  },
  {
   "cell_type": "code",
   "execution_count": null,
   "metadata": {},
   "outputs": [],
   "source": [
    "pickle.dump(master_df, open(\"COVID19_all_envs.df\", \"wb\"))"
   ]
  },
  {
   "cell_type": "code",
   "execution_count": null,
   "metadata": {},
   "outputs": [],
   "source": [
    "# You can actually also reduce all the Environments down to one per residue - check how much the FFVectors differ first though\n",
    "new = master_df.copy()\n",
    "lol = new.drop_duplicates(('FxnCenter', 'Resid'))\n",
    "pickle.dump(lol, open(\"COVID19_reduced_envs.df\", \"wb\"))"
   ]
  }
 ],
 "metadata": {
  "kernelspec": {
   "display_name": "Python 3",
   "language": "python",
   "name": "python3"
  },
  "language_info": {
   "codemirror_mode": {
    "name": "ipython",
    "version": 3
   },
   "file_extension": ".py",
   "mimetype": "text/x-python",
   "name": "python",
   "nbconvert_exporter": "python",
   "pygments_lexer": "ipython3",
   "version": "3.6.8"
  }
 },
 "nbformat": 4,
 "nbformat_minor": 2
}
