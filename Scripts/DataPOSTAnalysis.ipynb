{
 "cells": [
  {
   "cell_type": "code",
   "execution_count": null,
   "metadata": {},
   "outputs": [],
   "source": [
    "import json\n",
    "import pickle\n",
    "import numpy as np\n",
    "import time\n",
    "import pandas as pd\n",
    "from rdkit import Chem\n",
    "from rdkit.Chem import Draw\n",
    "from rdkit.Chem import AllChem\n",
    "from rdkit import DataStructs\n",
    "import os\n",
    "from rdkit.Chem.Draw import rdMolDraw2D\n",
    "from rdkit.Chem.rdmolfiles import SDWriter\n",
    "from sklearn.cluster import AgglomerativeClustering\n",
    "import scipy.cluster.hierarchy as shc\n",
    "import matplotlib.pyplot as plt\n",
    "from sklearn.cluster import AgglomerativeClustering"
   ]
  },
  {
   "cell_type": "markdown",
   "metadata": {},
   "source": [
    "### Unless you have your ligand files in separate .sdf files in the Ligand Folder select one of the following:"
   ]
  },
  {
   "cell_type": "markdown",
   "metadata": {},
   "source": [
    "## Option 1: Ligand Molecules are in a single .sdf file (i.e. downloaded from PDB)"
   ]
  },
  {
   "cell_type": "code",
   "execution_count": null,
   "metadata": {},
   "outputs": [],
   "source": [
    "single_sdf = 'Example_Lopinavir.sdf'\n",
    "ligand_folder = 'Ligands'\n",
    "\n",
    "#CREATE SDF FILES FOR THE FIRST TIME\n",
    "suppl = Chem.SDMolSupplier('%s/%s' %(ligand_folder,single_sdf))\n",
    "mols_op = [x for x in suppl]\n",
    "mols_opID = [x.GetProp(\"ChemCompId\") for x in mols_op]\n",
    "#print(mols_opID)\n",
    "uniques_molID = []\n",
    "uniques_molID_indx = []\n",
    "for j,i in enumerate(mols_opID):\n",
    "    if i in uniques_molID:\n",
    "        continue\n",
    "    else:\n",
    "        uniques_molID += [i]\n",
    "        uniques_molID_indx += [j]\n",
    "unique_sdfs = [mols_op[i] for i in uniques_molID_indx]\n",
    "for j, query in enumerate(unique_sdfs):\n",
    "    writer = SDWriter('%s/%s.sdf' %(ligand_folder, uniques_molID[j]))\n",
    "    writer.write(query)"
   ]
  },
  {
   "cell_type": "markdown",
   "metadata": {},
   "source": [
    "## Option 2: Ligand Molecules as SMILES strings"
   ]
  },
  {
   "cell_type": "code",
   "execution_count": null,
   "metadata": {},
   "outputs": [],
   "source": [
    "smilesstrings = [\"CC1(C)S[CH](N[CH]1C(O)=O)[CH](NC(=O)Cc2ccccc2)C(=O)NCc3ccccc3\", \"CC1(C)S[CH](N[CH]1C(=O)N[CH](CO)Cc2ccccc2)[CH](NC(=O)Cc3ccccc3)C(=O)NCc4ccccc4\"]\n",
    "ligand_folder = 'Ligands'\n",
    "\n",
    "long_ligand_list = []\n",
    "for i in smilesstrings:\n",
    "    long_ligand_list += [Chem.MolFromSmiles(i)]\n",
    "\n",
    "for j, query in enumerate(long_ligand_list):\n",
    "    writer = SDWriter('%s/Ligand_%s.sdf' %(ligand_folder, '{0:03}'.format(j)))\n",
    "    writer.write(query)"
   ]
  },
  {
   "cell_type": "markdown",
   "metadata": {},
   "source": [
    "# Make sure you run Fragmentise.py on those Ligands"
   ]
  },
  {
   "cell_type": "markdown",
   "metadata": {},
   "source": [
    "## Load the FragmentKB and Probability.mat FFN output"
   ]
  },
  {
   "cell_type": "code",
   "execution_count": null,
   "metadata": {},
   "outputs": [],
   "source": [
    "normalDF = pickle.load(open(\"../EnsembleModel/Data/GrandCID.dict\", \"rb\"))\n",
    "\n",
    "probabilitymat = pickle.load(open(\"Analysis/COVID19_coll_noEnv75.mat\", \"rb\"))\n",
    "probabilitymat = probabilitymat.reshape(75,59732) #row - environment, column - fragments"
   ]
  },
  {
   "cell_type": "markdown",
   "metadata": {},
   "source": [
    "## Extract the predicted fragments"
   ]
  },
  {
   "cell_type": "code",
   "execution_count": null,
   "metadata": {},
   "outputs": [],
   "source": [
    "# Extracts the Fragment indicices of Fragments with higher binding probability than the cut-off.\n",
    "\n",
    "def extractHighProbFrags(env, probsMat, cut):\n",
    "    envN = probsMat[env] # select all fragments in the relevant environment\n",
    "    indx = np.where(envN>cut)\n",
    "    return indx\n",
    "\n",
    "# collects all indices per environment - TODO: group them by regional environments\n",
    "highProbsFragsIndices = np.array([], dtype=int)\n",
    "\n",
    "for i in range(probabilitymat.shape[0]):\n",
    "    highProbsFragsIndices = np.append(highProbsFragsIndices, extractHighProbFrags(i, probabilitymat, 0.97))\n",
    "\n",
    "unique_highProbsFragsIndices, counts_indicies = np.unique(highProbsFragsIndices, return_counts=True)\n",
    "\n",
    "print(\"Average prediction per Environment:\", highProbsFragsIndices.shape[0]//probabilitymat.shape[0])\n",
    "print(\"Unique predictions across all\", probabilitymat.shape[0], \"Environments:\" , unique_highProbsFragsIndices.shape[0])\n",
    "print(\"Unique predictions predicted by more than 25% of the environments:\", unique_highProbsFragsIndices[counts_indicies>probabilitymat.shape[0]//4].shape[0])\n",
    "print(\"Unique predictions predicted by more than 50% of the environments:\", unique_highProbsFragsIndices[counts_indicies>probabilitymat.shape[0]//2].shape[0])\n",
    "print(\"Unique predictions predicted by more than 75% of the environments:\", unique_highProbsFragsIndices[counts_indicies>probabilitymat.shape[0]//4*3].shape[0])"
   ]
  },
  {
   "cell_type": "markdown",
   "metadata": {},
   "source": [
    "## Optional: Reduce Prediction Fragments based on occurance"
   ]
  },
  {
   "cell_type": "code",
   "execution_count": null,
   "metadata": {},
   "outputs": [],
   "source": [
    "unique_highProbsFragsIndices = unique_highProbsFragsIndices[counts_indicies>probabilitymat.shape[0]//2]"
   ]
  },
  {
   "cell_type": "markdown",
   "metadata": {},
   "source": [
    "## Visualise the predicted fragments"
   ]
  },
  {
   "cell_type": "code",
   "execution_count": null,
   "metadata": {},
   "outputs": [],
   "source": [
    "predicted_molecules = normalDF.iloc[unique_highProbsFragsIndices]['Mol']\n",
    "Draw.MolsToGridImage(predicted_molecules.values, molsPerRow=10, subImgSize=(150,150), maxMols=500)"
   ]
  },
  {
   "cell_type": "markdown",
   "metadata": {},
   "source": [
    "## Cluster the predicted fragments into prediction clusters: Select number of clusters based on the dendogram - around 10 fragments per cluster on average"
   ]
  },
  {
   "cell_type": "code",
   "execution_count": null,
   "metadata": {
    "scrolled": false
   },
   "outputs": [],
   "source": [
    "def TanSim(indx1, indx2):\n",
    "    b=AllChem.GetMorganFingerprintAsBitVect(predicted_molecules.iloc[indx1],2)\n",
    "    c=AllChem.GetMorganFingerprintAsBitVect(predicted_molecules.iloc[indx2],2)\n",
    "    return DataStructs.FingerprintSimilarity(b,c)\n",
    "\n",
    "sim = np.zeros((predicted_molecules.shape[0],predicted_molecules.shape[0]))\n",
    "for i in range(predicted_molecules.shape[0]):\n",
    "    for j in range(predicted_molecules.shape[0]):\n",
    "        sim[i,j] = TanSim(i,j)\n",
    "        if i == j:\n",
    "            break\n",
    "sim = sim + sim.transpose() - np.eye(predicted_molecules.shape[0])\n",
    "\n",
    "plt.figure(figsize=(15, 7))\n",
    "plt.title(\"Customer Dendograms\")\n",
    "dend = shc.dendrogram(shc.linkage(sim, method='ward'))\n",
    "#plt.savefig('Ligand_CV_Results/!Examples/dendogram.png')\n",
    "plt.show()"
   ]
  },
  {
   "cell_type": "markdown",
   "metadata": {},
   "source": [
    "## Actual Clustering using Agglomerative Clustering and save the clusters"
   ]
  },
  {
   "cell_type": "code",
   "execution_count": null,
   "metadata": {},
   "outputs": [],
   "source": [
    "clustering = AgglomerativeClustering(n_clusters=11).fit(sim)\n",
    "clbls = clustering.labels_"
   ]
  },
  {
   "cell_type": "code",
   "execution_count": null,
   "metadata": {},
   "outputs": [],
   "source": [
    "if not os.path.isdir(\"%s/!PredictionFragments\" %ligand_folder):\n",
    "    os.makedirs(\"%s/!PredictionFragments\" %ligand_folder)\n",
    "for i in range(max(clbls)+1):\n",
    "    img = Draw.MolsToGridImage(predicted_molecules.iloc[np.where(clbls==i)[0]].values, molsPerRow=10, subImgSize=(150,150))\n",
    "    img.save('%s/!PredictionFragments/Cluster_%s.png' %(ligand_folder,'{0:02}'.format(i)))\n",
    "\n",
    "# Cluster 5\n",
    "Draw.MolsToGridImage(predicted_molecules.iloc[np.where(clbls==4)[0]].values, molsPerRow=10, subImgSize=(150,150))"
   ]
  },
  {
   "cell_type": "markdown",
   "metadata": {},
   "source": [
    "## Mapping the predicted Fragments onto the Ligands"
   ]
  },
  {
   "cell_type": "code",
   "execution_count": null,
   "metadata": {
    "scrolled": true
   },
   "outputs": [],
   "source": [
    "def automateit(testname):\n",
    "    # load the original molecule and save the image    \n",
    "    print(\"%s\" %(testname))\n",
    "    suppl = Chem.SDMolSupplier('%s/%s.sdf' %(ligand_folder, testname))\n",
    "    mols_op = [x for x in suppl]\n",
    "    for m in mols_op: tmp=AllChem.Compute2DCoords(m)\n",
    "    img = Draw.MolsToGridImage(mols_op, molsPerRow=1, subImgSize=(500,500))#AllChem.Compute2DCoords(suppl)\n",
    "    img.save('%s/%s/%s.png' %(ligand_folder, testname, testname))\n",
    "    \n",
    "    # load the fragments of the molecule and save the image\n",
    "    ligfrags = pickle.load(open(\"%s/%s/%s.list\" %(ligand_folder,testname,testname), \"rb\"))\n",
    "    frags = np.empty(len(ligfrags))\n",
    "    for j, i in enumerate(ligfrags):\n",
    "        frags[j] = normalDF.index.get_loc(i)\n",
    "    fragmols = normalDF.iloc[frags]['Mol']\n",
    "    img = Draw.MolsToGridImage(fragmols.values, molsPerRow=10, subImgSize=(150,150), maxMols=100)\n",
    "    img.save('%s/%s/%s-Fragmentised.png' %(ligand_folder, testname, testname))\n",
    "    print(\"Number of Fragmentised Fragments:\", frags.shape[0])\n",
    "    \n",
    "    #find pockets \n",
    "    pocket_1 = range(75)\n",
    "\n",
    "    \n",
    "    correct_ident_frags = np.array([]) # Indices of all correctly identified fragments\n",
    "    all_coll = np.array([]) # Indicies of all predicted fragments\n",
    "    \n",
    "    # for environment in query environments find the predicted fragments and collect them\n",
    "    for i in pocket_1:\n",
    "        all_pred = extractHighProbFrags(i, probabilitymat, 0.97)[0]\n",
    "        all_coll = np.append(all_coll, all_pred)\n",
    "    \n",
    "    # find the unique fragments and keep fragments that show up in more than 25% of environments\n",
    "    unique_highProbsFragsIndices, counts_indicies = np.unique(all_coll, return_counts=True)\n",
    "    all_pred = unique_highProbsFragsIndices[counts_indicies>probabilitymat.shape[0]//2]\n",
    "    \n",
    "    # find the overlap between predicted fragments and ligand substructure fragments\n",
    "    identified, identified_i, _ = np.intersect1d(all_pred, frags, return_indices=True)\n",
    "    correct_ident_frags = np.append(correct_ident_frags, identified)\n",
    "\n",
    "    print(\"Unique Fragments identified:\", np.unique(correct_ident_frags).shape[0], \"out of\", frags.shape[0], \"using\", np.unique(all_pred).shape[0], \"predictions\")\n",
    "    \n",
    "    # find the unique clusters that have identified predictions\n",
    "    clust_labels = clbls[np.intersect1d(all_pred, correct_ident_frags, return_indices=True)[1]]\n",
    "    print(np.unique(clust_labels).shape[0], \"unique clusters predicted out of\", max(clbls)+1)\n",
    "    \n",
    "    #Find the total number of atoms covered\n",
    "    total_atoms = np.array([])\n",
    "    perc_atoms = np.array([])\n",
    "    for k in correct_ident_frags:\n",
    "        k = int(k)\n",
    "        atom_substruct = mols_op[0].GetSubstructMatches(normalDF.iloc[k]['Mol'])\n",
    "        total_atoms = np.append(total_atoms, atom_substruct[0])\n",
    "        try:\n",
    "            total_atoms = np.append(total_atoms, atom_substruct[1])\n",
    "        except:\n",
    "            pass\n",
    "    total_atoms = np.unique(total_atoms)\n",
    "    perc_atoms = np.append(perc_atoms, np.round(total_atoms.shape[0]/mols_op[0].GetNumAtoms()*100, decimals=0))\n",
    "    print(np.round(total_atoms.shape[0]/mols_op[0].GetNumAtoms()*100, decimals=0) , \"% Identified\", total_atoms.shape[0], \"Atoms out of\", mols_op[0].GetNumAtoms())\n",
    "    print(\"\")\n",
    "    return total_atoms.astype(int).tolist(), perc_atoms, np.unique(all_coll), np.unique(correct_ident_frags), clust_labels\n",
    "\n",
    "testnames = [f[:-4] for f in os.listdir(ligand_folder) if f[-4:]==\".sdf\"]\n",
    "sums = []\n",
    "pc_atom = []\n",
    "pred_frags = [] \n",
    "ident_frags = []\n",
    "clusters = []\n",
    "for i in testnames:\n",
    "    a, b, c, d, e = automateit(i)\n",
    "    sums = sums + [a]\n",
    "    pc_atom += [b[0]]\n",
    "    pred_frags += [c]\n",
    "    ident_frags += [d]\n",
    "    clusters += [e]"
   ]
  },
  {
   "cell_type": "markdown",
   "metadata": {},
   "source": [
    "## Plot Atom Coverage across all ligands"
   ]
  },
  {
   "cell_type": "code",
   "execution_count": null,
   "metadata": {},
   "outputs": [],
   "source": [
    "atom_coverage = np.array(pc_atom)\n",
    "plt.hist(atom_coverage, bins=20)\n",
    "plt.gca().set(title='Atom Percentage Covered in 105 Native Inhibitors', ylabel='Count', xlabel='Atom Percentage');"
   ]
  },
  {
   "cell_type": "markdown",
   "metadata": {},
   "source": [
    "## Draw Molecules with Atom Indices"
   ]
  },
  {
   "cell_type": "code",
   "execution_count": null,
   "metadata": {},
   "outputs": [],
   "source": [
    "testnames = [f[:-4] for f in os.listdir(ligand_folder) if f[-4:]==\".sdf\"]\n",
    "def ligand_indx_draw(testname):\n",
    "    suppl = Chem.SDMolSupplier('%s/%s.sdf' %(ligand_folder, testname))\n",
    "    mols_op = [x for x in suppl]\n",
    "    for m in mols_op: tmp=AllChem.Compute2DCoords(m)\n",
    "    for mol in mols_op: \n",
    "        d = rdMolDraw2D.MolDraw2DCairo(800, 800) # or MolDraw2DSVG to get SVGs\n",
    "        d.drawOptions().addAtomIndices = True\n",
    "        d.DrawMolecule(mol)\n",
    "        d.FinishDrawing()\n",
    "        with open('%s/%s/%s_Indx.png' %(ligand_folder, testname, testname), 'wb') as f:\n",
    "            f.write(d.GetDrawingText())\n",
    "    \n",
    "for i in testnames:\n",
    "    ligand_indx_draw(i)"
   ]
  },
  {
   "cell_type": "markdown",
   "metadata": {},
   "source": [
    "## Draw Atom Coverage"
   ]
  },
  {
   "cell_type": "code",
   "execution_count": null,
   "metadata": {},
   "outputs": [],
   "source": [
    "def ligand_covered_draw(testname, atoms_cov):\n",
    "    suppl = Chem.SDMolSupplier('%s/%s.sdf' %(ligand_folder, testname))\n",
    "    mols_op = [x for x in suppl]\n",
    "    hit_bonds = []\n",
    "    for mol in mols_op:\n",
    "        for i in range(mol.GetNumBonds()):\n",
    "            a1 = mol.GetBondWithIdx(i).GetBeginAtomIdx()\n",
    "            a2 = mol.GetBondWithIdx(i).GetEndAtomIdx()\n",
    "            if (a1 in atoms_cov) and (a2 in atoms_cov):\n",
    "                hit_bonds.append(i)\n",
    "\n",
    "    colour = (0.2,1,0.2) #light green\n",
    "    atom_cols = {}\n",
    "    for i, at in enumerate(atoms_cov):\n",
    "        atom_cols[at] = colour\n",
    "    bond_cols = {}\n",
    "    for i, bd in enumerate(hit_bonds):\n",
    "        bond_cols[bd] = colour\n",
    "    for m in mols_op: tmp=AllChem.Compute2DCoords(m)\n",
    "    for mol in mols_op: \n",
    "        d = rdMolDraw2D.MolDraw2DCairo(800, 800) # or MolDraw2DSVG to get SVGs\n",
    "        d.DrawMolecule(mol)\n",
    "        d.FinishDrawing()\n",
    "        rdMolDraw2D.PrepareAndDrawMolecule(d, mol, highlightAtoms=atoms_cov, highlightBonds=hit_bonds,highlightAtomColors=atom_cols, highlightBondColors=bond_cols)\n",
    "        with open('%s/%s/%s_Cov.png' %(ligand_folder, testname, testname), 'wb') as f:\n",
    "            f.write(d.GetDrawingText())\n",
    "            \n",
    "for j, i in enumerate(testnames):\n",
    "    ligand_covered_draw(i, sums[j])"
   ]
  },
  {
   "cell_type": "code",
   "execution_count": null,
   "metadata": {},
   "outputs": [],
   "source": []
  }
 ],
 "metadata": {
  "kernelspec": {
   "display_name": "Python 3",
   "language": "python",
   "name": "python3"
  },
  "language_info": {
   "codemirror_mode": {
    "name": "ipython",
    "version": 3
   },
   "file_extension": ".py",
   "mimetype": "text/x-python",
   "name": "python",
   "nbconvert_exporter": "python",
   "pygments_lexer": "ipython3",
   "version": "3.6.8"
  }
 },
 "nbformat": 4,
 "nbformat_minor": 2
}
